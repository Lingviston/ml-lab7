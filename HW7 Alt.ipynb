{
 "cells": [
  {
   "cell_type": "code",
   "execution_count": 28,
   "metadata": {
    "collapsed": true
   },
   "outputs": [],
   "source": [
    "import csv\n",
    "import numpy as np\n",
    "import math"
   ]
  },
  {
   "cell_type": "code",
   "execution_count": 29,
   "metadata": {
    "collapsed": true
   },
   "outputs": [],
   "source": [
    "iris_file_path = \"data/iris.data\"\n",
    "\n",
    "iris_classes = [\"Iris-setosa\", \"Iris-versicolor\", \"Iris-virginica\"]"
   ]
  },
  {
   "cell_type": "code",
   "execution_count": 30,
   "metadata": {
    "collapsed": true
   },
   "outputs": [],
   "source": [
    "def read_data(file_path, classes):\n",
    "    matrix = list()\n",
    "    \n",
    "    with open(file_path, newline='') as file:\n",
    "        reader = csv.reader(file, delimiter=',', quotechar='|')\n",
    "        \n",
    "        for row in reader:\n",
    "            matrix_row = [1]\n",
    "            matrix_row += [float(x) for x in row[:-1]] \n",
    "            for class_index in range(len(classes)):\n",
    "                if classes[class_index] == row[4]:\n",
    "                    matrix_row += [class_index + 1]\n",
    "                    \n",
    "            matrix.append(matrix_row)\n",
    "                \n",
    "    return matrix"
   ]
  },
  {
   "cell_type": "code",
   "execution_count": 31,
   "metadata": {
    "collapsed": true
   },
   "outputs": [],
   "source": [
    "def classify(x, w):\n",
    "    return 1 if sigma(x.dot(w)) > 0.5 else 0\n",
    "    \n",
    "\n",
    "def calculate_error(x, y, w, tau):\n",
    "    count = x.shape[0]\n",
    "    incorrect_count = 0\n",
    "    \n",
    "    for j in range(count):\n",
    "        point = classify(x[j], w)\n",
    "        if point != y[j][0]:\n",
    "            incorrect_count += 1\n",
    "            \n",
    "    return incorrect_count / count\n",
    "        \n",
    "        \n",
    "def calcualte_cost(w, x, y, tau):\n",
    "    assert x.shape[0] == y.shape[0]\n",
    "    \n",
    "    log_func_v = sigma(x.dot(w))\n",
    "    y = np.squeeze(y)\n",
    "    step1 = y * np.log(log_func_v)\n",
    "    step2 = (1 - y)*np.log(1 - log_func_v)\n",
    "    final = -step1 - step2 \n",
    "    return np.mean(final) + tau*w.dot(w)"
   ]
  },
  {
   "cell_type": "code",
   "execution_count": 32,
   "metadata": {
    "collapsed": true
   },
   "outputs": [],
   "source": [
    "def sigma(z):\n",
    "    return 1 / (1 + math.e**(-z))\n",
    "\n",
    "\n",
    "def sgd_learn(etta, T, tau, trainingX, trainingY):\n",
    "    w = np.array([0, 0, 0, 0, 0])\n",
    "    weight_sum = w\n",
    "    for i in range(T):\n",
    "        j = np.random.randint(0, trainingX.shape[0])\n",
    "        x = trainingX[j]\n",
    "        y = trainingY[j]\n",
    "        a = sigma(x.dot(w))\n",
    "        w = w - etta*(a - y)*x - etta*2*tau*w\n",
    "        weight_sum = weight_sum + w\n",
    "    return weight_sum / T\n",
    "\n",
    "\n",
    "def bgd_learn(etta, T, tau, x, y):\n",
    "    w = np.matrix([0, 0, 0, 0, 0])\n",
    "    weight_sum = w\n",
    "    for i in range(T):\n",
    "        z = np.squeeze(np.asarray(np.dot(x, w.T).T))\n",
    "        a = np.array(sigma(z))  \n",
    "        dz = a - y.T\n",
    "        dw = np.dot(dz, x)\n",
    "        w = w - etta*dw/x.shape[0] - etta*2*tau*w\n",
    "        weight_sum = weight_sum + w\n",
    "    return np.squeeze(np.asarray(w))\n",
    "    \n",
    "    \n",
    "def k_fold(folds_count, x, y, tau, etta, T, algorithm):\n",
    "    mk = x.shape[0] // folds_count\n",
    "    \n",
    "    error = 0\n",
    "    for i in range(folds_count):\n",
    "        validationX = x[i * mk:(i + 1)*mk, :]\n",
    "        validationY = y[i * mk:(i + 1)*mk, :]\n",
    "        \n",
    "        trainX = np.concatenate((x[:i * mk, :], x[(i + 1)*mk:, :]),axis = 0)\n",
    "        trainY = np.concatenate((y[:i * mk, :], y[(i + 1)*mk:, :]),axis = 0)\n",
    "        \n",
    "        w = algorithm(etta, T, tau, trainX, trainY)\n",
    "        \n",
    "        error += calcualte_cost(w, x, y, tau)\n",
    "        \n",
    "    return error / folds_count"
   ]
  },
  {
   "cell_type": "code",
   "execution_count": 33,
   "metadata": {},
   "outputs": [
    {
     "name": "stdout",
     "output_type": "stream",
     "text": [
      "Iris-setosa\n",
      "Classification error =  0.0\n",
      "Best params for SGD =  (0.001, 0.3, 300)\n",
      "Best weights =  [ 0.2773781   0.42512553  1.40396133 -2.34996569 -1.17619898]\n",
      "Classification error =  0.0\n",
      "Best params for BGD =  (0.001, 0.5, 300)\n",
      "Best weights =  [ 0.31826334  0.53358791  1.74690781 -2.75848338 -1.24942991]\n",
      "Iris-versicolor\n",
      "Classification error =  0.26666666666666666\n",
      "Best params for SGD =  (0.001, 0.01, 300)\n",
      "Best weights =  [-0.02571743 -0.10190194 -0.19999495  0.12243666  0.0211853 ]\n",
      "Classification error =  0.26666666666666666\n",
      "Best params for BGD =  (0.001, 0.1, 300)\n",
      "Best weights =  [ 0.21748424  0.19472883 -1.00404741  0.42285113 -0.57424994]\n",
      "Iris-virginica\n",
      "Classification error =  0.0\n",
      "Best params for SGD =  (0.001, 0.1, 300)\n",
      "Best weights =  [-0.43893728 -1.18681137 -0.98582995  1.82856872  1.37313154]\n",
      "Classification error =  0.0\n",
      "Best params for BGD =  (0.001, 0.5, 300)\n",
      "Best weights =  [-1.57041013 -3.00103456 -2.68388365  4.3496805   3.96329202]\n"
     ]
    }
   ],
   "source": [
    "def k_fold_learn(etta_values, T_values, tau_values, x, algorithm, folds_count, iris_num):\n",
    "    trainingX = x[:9 * x.shape[0] // 10, :5]\n",
    "    trainingY = x[:9 * x.shape[0] // 10, 5:]\n",
    "    \n",
    "    np.place(trainingY, trainingY != iris_num, [0])\n",
    "    np.place(trainingY, trainingY == iris_num, [1])\n",
    "    \n",
    "    minL = 1000000\n",
    "    bestEtta = 0\n",
    "    bestT = 0\n",
    "    bestTau = 0\n",
    "    for etta in etta_values:\n",
    "        for tau in tau_values:\n",
    "            for T in T_values:\n",
    "                \n",
    "                L = k_fold(folds_count, trainingX, trainingY, tau, etta, T, algorithm)\n",
    "                \n",
    "                if(L < minL):\n",
    "                    minL = L\n",
    "                    bestT = T\n",
    "                    bestEtta = etta\n",
    "                    bestTau = tau\n",
    "    return bestEtta, bestT, bestTau\n",
    "\n",
    "        \n",
    "def model(etta, T, tau, x, iris_num, algorithm):\n",
    "    trainingX = x[:9 * x.shape[0] // 10, :5]\n",
    "    validationX = x[9 * x.shape[0] // 10:, :5]\n",
    "    trainingY = x[:9 * x.shape[0] // 10, 5:]\n",
    "    validationY = x[9 * x.shape[0] // 10:, 5:]\n",
    "    \n",
    "    np.place(trainingY, trainingY != iris_num, [0])\n",
    "    np.place(trainingY, trainingY == iris_num, [1])\n",
    "    np.place(validationY, validationY != iris_num, [0])\n",
    "    np.place(validationY, validationY == iris_num, [1])\n",
    "    \n",
    "    w = algorithm(etta, T, tau, trainingX, trainingY)\n",
    "    \n",
    "    error = calculate_error(validationX, validationY, w, tau)\n",
    "    print (\"Classification error = \", error)\n",
    "    \n",
    "    return w\n",
    "\n",
    "\n",
    "data = read_data(iris_file_path, iris_classes)\n",
    "x = np.array(data)\n",
    "np.random.shuffle(x)\n",
    "\n",
    "etta_values = [0.001, 0.005, 0.01, 0.1, 0.3, 0.5]\n",
    "tau_values = [0.001, 0.005, 0.01, 0.1, 0.3, 0.5]\n",
    "T_values = [20, 50, 100, 200, 300]\n",
    "for i in range(1, 4):\n",
    "    print (iris_classes[i - 1])\n",
    "    (sgdEtta, sgdT, sgdTau) = k_fold_learn(etta_values, T_values, tau_values, x.copy(), sgd_learn, 9, i)\n",
    "    w = model(sgdEtta, sgdT, sgdTau, x.copy(), i, sgd_learn)\n",
    "    print(\"Best params for SGD = \", (sgdTau, sgdEtta, sgdT))\n",
    "    print(\"Best weights = \", w)\n",
    "    (bgdEtta, bgdT, bgdTau) = k_fold_learn(etta_values, T_values, tau_values, x.copy(), bgd_learn, 9, i)\n",
    "    w = model(bgdEtta, bgdT, bgdTau, x.copy(), i, bgd_learn)\n",
    "    print(\"Best params for BGD = \", (bgdTau, bgdEtta, bgdT))\n",
    "    print(\"Best weights = \", w)"
   ]
  },
  {
   "cell_type": "code",
   "execution_count": null,
   "metadata": {
    "collapsed": true
   },
   "outputs": [],
   "source": []
  }
 ],
 "metadata": {
  "kernelspec": {
   "display_name": "Python 3",
   "language": "python",
   "name": "python3"
  },
  "language_info": {
   "codemirror_mode": {
    "name": "ipython",
    "version": 3
   },
   "file_extension": ".py",
   "mimetype": "text/x-python",
   "name": "python",
   "nbconvert_exporter": "python",
   "pygments_lexer": "ipython3",
   "version": "3.6.1"
  }
 },
 "nbformat": 4,
 "nbformat_minor": 2
}
